{
 "cells": [
  {
   "cell_type": "code",
   "execution_count": 1,
   "metadata": {
    "scrolled": true
   },
   "outputs": [],
   "source": [
    "import os, logging\n",
    "\n",
    "os.environ[\"TF_CPP_MIN_LOG_LEVEL\"] = \"3\"\n",
    "logging.getLogger(\"tensorflow\").setLevel(logging.CRITICAL)\n",
    "logging.getLogger(\"tensorflow_hub\").setLevel(logging.CRITICAL)\n",
    "\n",
    "import numpy as np\n",
    "from skimage.draw import line\n",
    "import tensorflow as tf\n",
    "from PIL import Image\n",
    "from matplotlib.pyplot import imshow\n",
    "from IPython.display import display,  HTML\n",
    "%matplotlib inline"
   ]
  },
  {
   "cell_type": "code",
   "execution_count": 2,
   "metadata": {
    "scrolled": true
   },
   "outputs": [],
   "source": [
    "def get_lined_images(image_width, num_samples):\n",
    "    data_shape = (num_samples, image_width, image_width)\n",
    "\n",
    "    data = np.zeros(data_shape, dtype=np.float32)\n",
    "    targets = np.zeros((num_samples, 6), dtype=np.float32)\n",
    "    \n",
    "    epsilon = 1e-8\n",
    "    rint = lambda: np.random.randint(0, image_width)\n",
    "\n",
    "    for i in range(num_samples):\n",
    "        x1, x2, y1, y2 = rint(), rint(), rint(), rint()\n",
    "        rr, cc = line(x1, y1, x2, y2)\n",
    "        data[i][rr, cc] = 1\n",
    "        length = np.sum(data[i]) / image_width\n",
    "        angle = np.arctan(abs(y1 - y2) / (abs(x1 - x2) + epsilon)) / np.pi\n",
    "        targets[i][0:4] = [x1 / image_width, x2 / image_width, y1 / image_width, y2 / image_width]\n",
    "        targets[i][4] = length\n",
    "        targets[i][5] = angle\n",
    "        \n",
    "    data = np.expand_dims(data, axis=-1)\n",
    "    return data, targets"
   ]
  },
  {
   "cell_type": "code",
   "execution_count": 3,
   "metadata": {
    "scrolled": true
   },
   "outputs": [],
   "source": [
    "def create_model(num_outputs):\n",
    "    xin = tf.keras.layers.Input(shape=(None, None, 1))\n",
    "    xconv = tf.keras.layers.Conv2D(2*num_outputs, 3, activation='relu', name=\"activation\")(xin)\n",
    "    xpool = tf.keras.layers.GlobalMaxPooling2D(name=\"pool\")(xconv)\n",
    "    xouts = tf.keras.layers.Dense(num_outputs, activation='relu', name=\"out\")(xpool)\n",
    "    model = tf.keras.Model(xin, outputs=xouts)\n",
    "    model.compile(optimizer='sgd', loss='mse', metrics=['mse'])\n",
    "    return model "
   ]
  },
  {
   "cell_type": "code",
   "execution_count": 4,
   "metadata": {},
   "outputs": [
    {
     "name": "stdout",
     "output_type": "stream",
     "text": [
      "(100000, 128, 128, 1) (100000, 2)\n"
     ]
    }
   ],
   "source": [
    "image_width = 128\n",
    "num_samples = 100000\n",
    "\n",
    "data, targets = get_lined_images(image_width, num_samples)\n",
    "targets = targets[:,4:]\n",
    "test_data, test_targets = get_lined_images(image_width, 10)\n",
    "\n",
    "print (data.shape, targets.shape)"
   ]
  },
  {
   "cell_type": "code",
   "execution_count": 5,
   "metadata": {
    "scrolled": true
   },
   "outputs": [
    {
     "name": "stdout",
     "output_type": "stream",
     "text": [
      "Model: \"model\"\n",
      "_________________________________________________________________\n",
      "Layer (type)                 Output Shape              Param #   \n",
      "=================================================================\n",
      "input_1 (InputLayer)         [(None, None, None, 1)]   0         \n",
      "_________________________________________________________________\n",
      "activation (Conv2D)          (None, None, None, 4)     40        \n",
      "_________________________________________________________________\n",
      "pool (GlobalMaxPooling2D)    (None, 4)                 0         \n",
      "_________________________________________________________________\n",
      "out (Dense)                  (None, 2)                 10        \n",
      "=================================================================\n",
      "Total params: 50\n",
      "Trainable params: 50\n",
      "Non-trainable params: 0\n",
      "_________________________________________________________________\n",
      "Train on 80000 samples, validate on 20000 samples\n",
      "Epoch 1/30\n",
      "80000/80000 [==============================] - 13s 164us/sample - loss: 0.0271 - mean_squared_error: 0.0271 - val_loss: 0.0256 - val_mean_squared_error: 0.0256\n",
      "Epoch 2/30\n",
      "80000/80000 [==============================] - 13s 157us/sample - loss: 0.0255 - mean_squared_error: 0.0255 - val_loss: 0.0254 - val_mean_squared_error: 0.0254\n",
      "Epoch 3/30\n",
      "80000/80000 [==============================] - 12s 150us/sample - loss: 0.0253 - mean_squared_error: 0.0253 - val_loss: 0.0253 - val_mean_squared_error: 0.0253\n",
      "Epoch 4/30\n",
      "80000/80000 [==============================] - 12s 149us/sample - loss: 0.0252 - mean_squared_error: 0.0252 - val_loss: 0.0250 - val_mean_squared_error: 0.0250\n",
      "Epoch 5/30\n",
      "80000/80000 [==============================] - 12s 153us/sample - loss: 0.0249 - mean_squared_error: 0.0249 - val_loss: 0.0249 - val_mean_squared_error: 0.0249\n",
      "Epoch 6/30\n",
      "80000/80000 [==============================] - 12s 152us/sample - loss: 0.0248 - mean_squared_error: 0.0248 - val_loss: 0.0248 - val_mean_squared_error: 0.0248\n",
      "Epoch 7/30\n",
      "80000/80000 [==============================] - 12s 154us/sample - loss: 0.0248 - mean_squared_error: 0.0248 - val_loss: 0.0247 - val_mean_squared_error: 0.0247\n",
      "Epoch 8/30\n",
      "80000/80000 [==============================] - 12s 150us/sample - loss: 0.0247 - mean_squared_error: 0.0247 - val_loss: 0.0247 - val_mean_squared_error: 0.0247\n",
      "Epoch 9/30\n",
      "80000/80000 [==============================] - 13s 161us/sample - loss: 0.0247 - mean_squared_error: 0.0247 - val_loss: 0.0246 - val_mean_squared_error: 0.0246\n",
      "Epoch 10/30\n",
      "80000/80000 [==============================] - 12s 154us/sample - loss: 0.0247 - mean_squared_error: 0.0247 - val_loss: 0.0246 - val_mean_squared_error: 0.0246\n",
      "Epoch 11/30\n",
      "80000/80000 [==============================] - 12s 152us/sample - loss: 0.0246 - mean_squared_error: 0.0246 - val_loss: 0.0247 - val_mean_squared_error: 0.0247\n",
      "Epoch 12/30\n",
      "80000/80000 [==============================] - 12s 150us/sample - loss: 0.0246 - mean_squared_error: 0.0246 - val_loss: 0.0246 - val_mean_squared_error: 0.0246\n",
      "Epoch 13/30\n",
      "80000/80000 [==============================] - 12s 153us/sample - loss: 0.0246 - mean_squared_error: 0.0246 - val_loss: 0.0246 - val_mean_squared_error: 0.0246\n",
      "Epoch 14/30\n",
      "80000/80000 [==============================] - 13s 164us/sample - loss: 0.0246 - mean_squared_error: 0.0246 - val_loss: 0.0246 - val_mean_squared_error: 0.0246\n",
      "Epoch 15/30\n",
      "80000/80000 [==============================] - 12s 154us/sample - loss: 0.0246 - mean_squared_error: 0.0246 - val_loss: 0.0246 - val_mean_squared_error: 0.0246\n",
      "Epoch 16/30\n",
      "80000/80000 [==============================] - 12s 154us/sample - loss: 0.0246 - mean_squared_error: 0.0246 - val_loss: 0.0246 - val_mean_squared_error: 0.0246\n",
      "Epoch 17/30\n",
      "80000/80000 [==============================] - 12s 152us/sample - loss: 0.0246 - mean_squared_error: 0.0246 - val_loss: 0.0246 - val_mean_squared_error: 0.0246\n",
      "Epoch 18/30\n",
      "80000/80000 [==============================] - 13s 159us/sample - loss: 0.0246 - mean_squared_error: 0.0246 - val_loss: 0.0245 - val_mean_squared_error: 0.0245\n",
      "Epoch 19/30\n",
      "80000/80000 [==============================] - 12s 156us/sample - loss: 0.0246 - mean_squared_error: 0.0246 - val_loss: 0.0245 - val_mean_squared_error: 0.0245\n",
      "Epoch 20/30\n",
      "80000/80000 [==============================] - 12s 150us/sample - loss: 0.0245 - mean_squared_error: 0.0245 - val_loss: 0.0244 - val_mean_squared_error: 0.0244\n",
      "Epoch 21/30\n",
      "80000/80000 [==============================] - 12s 148us/sample - loss: 0.0245 - mean_squared_error: 0.0245 - val_loss: 0.0244 - val_mean_squared_error: 0.0244\n",
      "Epoch 22/30\n",
      "80000/80000 [==============================] - 12s 155us/sample - loss: 0.0245 - mean_squared_error: 0.0245 - val_loss: 0.0245 - val_mean_squared_error: 0.0245\n",
      "Epoch 23/30\n",
      "80000/80000 [==============================] - 13s 157us/sample - loss: 0.0244 - mean_squared_error: 0.0244 - val_loss: 0.0244 - val_mean_squared_error: 0.0244\n",
      "Epoch 24/30\n",
      "80000/80000 [==============================] - 12s 151us/sample - loss: 0.0244 - mean_squared_error: 0.0244 - val_loss: 0.0245 - val_mean_squared_error: 0.0245\n",
      "Epoch 25/30\n",
      "80000/80000 [==============================] - 12s 151us/sample - loss: 0.0244 - mean_squared_error: 0.0244 - val_loss: 0.0244 - val_mean_squared_error: 0.0244\n",
      "Epoch 26/30\n",
      "80000/80000 [==============================] - 12s 148us/sample - loss: 0.0244 - mean_squared_error: 0.0244 - val_loss: 0.0244 - val_mean_squared_error: 0.0244\n",
      "Epoch 27/30\n",
      "80000/80000 [==============================] - 13s 162us/sample - loss: 0.0244 - mean_squared_error: 0.0244 - val_loss: 0.0244 - val_mean_squared_error: 0.0244\n",
      "Epoch 28/30\n",
      "80000/80000 [==============================] - 12s 155us/sample - loss: 0.0244 - mean_squared_error: 0.0244 - val_loss: 0.0244 - val_mean_squared_error: 0.0244\n",
      "Epoch 29/30\n",
      "80000/80000 [==============================] - 12s 151us/sample - loss: 0.0244 - mean_squared_error: 0.0244 - val_loss: 0.0244 - val_mean_squared_error: 0.0244\n",
      "Epoch 30/30\n",
      "80000/80000 [==============================] - 12s 151us/sample - loss: 0.0244 - mean_squared_error: 0.0244 - val_loss: 0.0243 - val_mean_squared_error: 0.0243\n",
      "[[0.50157523 0.06997011]\n",
      " [0.4934328  0.08050881]\n",
      " [0.49385443 0.42418417]\n",
      " [0.42737913 0.31287166]\n",
      " [0.49385443 0.42418417]\n",
      " [0.49385443 0.42418417]\n",
      " [0.2631935  0.20206496]\n",
      " [0.4934328  0.08050881]\n",
      " [0.44631773 0.29937384]\n",
      " [0.49385443 0.42418417]]\n",
      "[[0.4140625  0.7265625  0.7578125  0.6640625  0.3203125  0.09277358]\n",
      " [0.140625   0.546875   0.5390625  0.625      0.4140625  0.06635654]\n",
      " [0.90625    0.71875    0.578125   0.015625   0.5703125  0.3975836 ]\n",
      " [0.25       0.5390625  0.2890625  0.6640625  0.3828125  0.29096538]\n",
      " [0.4375     0.1796875  0.078125   0.8984375  0.828125   0.40307117]\n",
      " [0.40625    0.453125   0.5625     0.296875   0.2734375  0.4444001 ]\n",
      " [0.5078125  0.625      0.609375   0.7265625  0.125      0.25      ]\n",
      " [0.8125     0.3828125  0.7890625  0.6484375  0.4375     0.100677  ]\n",
      " [0.375      0.09375    0.09375    0.5625     0.4765625  0.32797912]\n",
      " [0.265625   0.421875   0.0703125  0.7265625  0.6640625  0.42559722]]\n"
     ]
    }
   ],
   "source": [
    "model = create_model(targets.shape[-1])\n",
    "model.summary()\n",
    "\n",
    "model.fit(data, targets, batch_size=16, epochs=30, validation_split=0.2, shuffle=True)\n",
    "\n",
    "outputs = model.predict(test_data)\n",
    "print (outputs)\n",
    "print (test_targets)"
   ]
  },
  {
   "cell_type": "code",
   "execution_count": 20,
   "metadata": {},
   "outputs": [],
   "source": [
    "CSS = \"\"\"\n",
    ".output {\n",
    "    flex-direction: row;\n",
    "}\n",
    "\"\"\"\n",
    "\n",
    "HTML('<style>{}</style>'.format(CSS))\n",
    "\n",
    "def array_as_img(array):\n",
    "    array = np.asarray(array * 255, dtype=np.uint8)\n",
    "    return Image.fromarray(array)"
   ]
  },
  {
   "cell_type": "code",
   "execution_count": 23,
   "metadata": {},
   "outputs": [],
   "source": [
    "random_lines , _  = get_lined_images(256, 1)\n",
    "activation_mdl = tf.keras.Model(model.layers[0].input, outputs=model.layers[1].output)\n",
    "activation = activation_mdl.predict(random_lines[0:1])\n",
    "\n",
    "activation_imgs = [array_as_img(activation[0,:,:,i]) for i in range(activation.shape[-1])]\n",
    "data_img = array_as_img(random_lines[0,:,:,0])"
   ]
  },
  {
   "cell_type": "code",
   "execution_count": 24,
   "metadata": {},
   "outputs": [
    {
     "data": {
      "image/png": "[encoded data removed]",
      "text/plain": [
       "<PIL.Image.Image image mode=L size=256x256 at 0x7F7CB07CA400>"
      ]
     },
     "metadata": {},
     "output_type": "display_data"
    }
   ],
   "source": [
    "display(data_img)"
   ]
  },
  {
   "cell_type": "code",
   "execution_count": 25,
   "metadata": {},
   "outputs": [
    {
     "data": {
      "image/png": "[encoded data removed]",
      "text/plain": [
       "<PIL.Image.Image image mode=L size=254x254 at 0x7F7CB07CA630>"
      ]
     },
     "metadata": {},
     "output_type": "display_data"
    },
    {
     "data": {
      "image/png": "[encoded data removed]",
      "text/plain": [
       "<PIL.Image.Image image mode=L size=254x254 at 0x7F7CB07CA198>"
      ]
     },
     "metadata": {},
     "output_type": "display_data"
    }
   ],
   "source": [
    "display(*activation_imgs)"
   ]
  },
  {
   "cell_type": "code",
   "execution_count": null,
   "metadata": {},
   "outputs": [],
   "source": []
  },
  {
   "cell_type": "code",
   "execution_count": null,
   "metadata": {},
   "outputs": [],
   "source": []
  }
 ],
 "metadata": {
  "kernelspec": {
   "display_name": "Python 3",
   "language": "python",
   "name": "python3"
  },
  "language_info": {
   "codemirror_mode": {
    "name": "ipython",
    "version": 3
   },
   "file_extension": ".py",
   "mimetype": "text/x-python",
   "name": "python",
   "nbconvert_exporter": "python",
   "pygments_lexer": "ipython3",
   "version": "3.6.8"
  }
 },
 "nbformat": 4,
 "nbformat_minor": 4
}
